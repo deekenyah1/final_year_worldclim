{
 "cells": [
  {
   "cell_type": "markdown",
   "id": "b3302a84",
   "metadata": {},
   "source": [
    "TITLE PAGE\n",
    "UNIVERSITY OF GHANA, LEGON\n",
    "DEPARTMENT OF MATHEMATICS\n",
    "THE VALIDITY OF NODATA VALUES IN THE WORLDCLIM DATABASE \n",
    "BY\n",
    "DIANNE MAAME EFUA EGYIM KENYAH\n",
    "10689628\n",
    "JULY,2024\n",
    "A dissertation submitted to the Department of Mathematics,\n",
    "University of Ghana, in partial fulfillment of the\n",
    "requirements for Bachelor of Science degree.\n"
   ]
  },
  {
   "cell_type": "code",
   "execution_count": null,
   "id": "fe3b0731",
   "metadata": {},
   "outputs": [],
   "source": []
  },
  {
   "cell_type": "markdown",
   "id": "16f0ca75",
   "metadata": {},
   "source": [
    "CHAPTER 1 - WORLDCLIM INTRODUCTION"
   ]
  },
  {
   "cell_type": "code",
   "execution_count": null,
   "id": "cd0630d0",
   "metadata": {},
   "outputs": [],
   "source": []
  },
  {
   "cell_type": "markdown",
   "id": "64e849e1",
   "metadata": {},
   "source": [
    "CHAPTER 1b - RASTERIO PACKAGE\n"
   ]
  },
  {
   "cell_type": "code",
   "execution_count": null,
   "id": "7fcbd087",
   "metadata": {},
   "outputs": [],
   "source": []
  },
  {
   "cell_type": "markdown",
   "id": "1246ca15",
   "metadata": {},
   "source": [
    "CHAPTER 2 - EXPLORE THE DATA"
   ]
  },
  {
   "cell_type": "code",
   "execution_count": null,
   "id": "34e99cd3",
   "metadata": {},
   "outputs": [],
   "source": []
  },
  {
   "cell_type": "markdown",
   "id": "7bcba9bf",
   "metadata": {},
   "source": [
    "CHAPTER 3 - CLUSTERING\n",
    "* KMEANS\n",
    "1. FIND THE MATHS BEHIND KMEANS\n",
    "\n",
    "* DBSCAN\n",
    "1. FIND THE MATHS BEHIND DBSCAN\n"
   ]
  },
  {
   "cell_type": "code",
   "execution_count": null,
   "id": "0e99a38e",
   "metadata": {},
   "outputs": [],
   "source": []
  }
 ],
 "metadata": {
  "kernelspec": {
   "display_name": "Python 3 (ipykernel)",
   "language": "python",
   "name": "python3"
  },
  "language_info": {
   "codemirror_mode": {
    "name": "ipython",
    "version": 3
   },
   "file_extension": ".py",
   "mimetype": "text/x-python",
   "name": "python",
   "nbconvert_exporter": "python",
   "pygments_lexer": "ipython3",
   "version": "3.11.5"
  }
 },
 "nbformat": 4,
 "nbformat_minor": 5
}
