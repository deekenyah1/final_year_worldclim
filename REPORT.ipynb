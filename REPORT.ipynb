{
 "cells": [
  {
   "cell_type": "markdown",
   "id": "b3302a84",
   "metadata": {},
   "source": [
    "TITLE PAGE\n",
    "UNIVERSITY OF GHANA, LEGON\n",
    "DEPARTMENT OF MATHEMATICS\n",
    "THE VALIDITY OF NODATA VALUES IN THE WORLDCLIM DATABASE \n",
    "BY\n",
    "DIANNE MAAME EFUA EGYIM KENYAH\n",
    "10689628\n",
    "JULY,2024\n",
    "A dissertation submitted to the Department of Mathematics,\n",
    "University of Ghana, in partial fulfillment of the\n",
    "requirements for Bachelor of Science degree.\n"
   ]
  },
  {
   "cell_type": "code",
   "execution_count": null,
   "id": "fe3b0731",
   "metadata": {},
   "outputs": [],
   "source": []
  },
  {
   "cell_type": "markdown",
   "id": "16f0ca75",
   "metadata": {},
   "source": [
    "CHAPTER 1 - WORLDCLIM INTRODUCTION"
   ]
  },
  {
   "cell_type": "code",
   "execution_count": null,
   "id": "cd0630d0",
   "metadata": {},
   "outputs": [],
   "source": []
  },
  {
   "cell_type": "markdown",
   "id": "64e849e1",
   "metadata": {},
   "source": [
    "CHAPTER 1b - RASTERIO PACKAGE\n"
   ]
  },
  {
   "cell_type": "markdown",
   "id": "82c49563",
   "metadata": {},
   "source": [
    "* RASTERIO.OPEN\n",
    "* EXPLAIN THE FEATURES OF METADATA"
   ]
  },
  {
   "cell_type": "markdown",
   "id": "1246ca15",
   "metadata": {},
   "source": [
    "CHAPTER 2 - EXPLORE THE DATA"
   ]
  },
  {
   "cell_type": "code",
   "execution_count": null,
   "id": "3ce26e25",
   "metadata": {},
   "outputs": [],
   "source": [
    "import rasterio\n",
    "import matplotlib.pyplot as plt\n",
    "import numpy as np\n",
    "from matplotlib.gridspec import GridSpec\n",
    "import glob\n",
    "from sklearn.cluster import KMeans\n",
    "from sklearn.cluster import DBSCAN \n",
    "from sklearn.cluster import HDBSCAN"
   ]
  },
  {
   "cell_type": "code",
   "execution_count": null,
   "id": "a553f26d",
   "metadata": {},
   "outputs": [],
   "source": [
    "#Opening bio dataset - 5m - dataset 1\n",
    "dataset1a = rasterio.open(r\"C:\\Users\\Dianne Kenyah\\OneDrive - University of Ghana\\Documents\\GitHub\\final_year_worldclim\\worldclim\\wc2.1_5m_bio\\wc2.1_5m_bio_1.tif\")\n",
    "dataset1b = rasterio.open(r\"C:\\Users\\Dianne Kenyah\\OneDrive - University of Ghana\\Documents\\GitHub\\final_year_worldclim\\worldclim\\wc2.1_5m_bio\\wc2.1_5m_bio_2.tif\")\n",
    "dataset1c = rasterio.open(r\"C:\\Users\\Dianne Kenyah\\OneDrive - University of Ghana\\Documents\\GitHub\\final_year_worldclim\\worldclim\\wc2.1_5m_bio\\wc2.1_5m_bio_3.tif\")\n",
    "dataset1d = rasterio.open(r\"C:\\Users\\Dianne Kenyah\\OneDrive - University of Ghana\\Documents\\GitHub\\final_year_worldclim\\worldclim\\wc2.1_5m_bio\\wc2.1_5m_bio_4.tif\")\n",
    "dataset1e = rasterio.open(r\"C:\\Users\\Dianne Kenyah\\OneDrive - University of Ghana\\Documents\\GitHub\\final_year_worldclim\\worldclim\\wc2.1_5m_bio\\wc2.1_5m_bio_5.tif\")\n",
    "dataset1f = rasterio.open(r\"C:\\Users\\Dianne Kenyah\\OneDrive - University of Ghana\\Documents\\GitHub\\final_year_worldclim\\worldclim\\wc2.1_5m_bio\\wc2.1_5m_bio_6.tif\")\n",
    "dataset1g = rasterio.open(r\"C:\\Users\\Dianne Kenyah\\OneDrive - University of Ghana\\Documents\\GitHub\\final_year_worldclim\\worldclim\\wc2.1_5m_bio\\wc2.1_5m_bio_7.tif\")\n",
    "dataset1h = rasterio.open(r\"C:\\Users\\Dianne Kenyah\\OneDrive - University of Ghana\\Documents\\GitHub\\final_year_worldclim\\worldclim\\wc2.1_5m_bio\\wc2.1_5m_bio_8.tif\")\n",
    "dataset1i = rasterio.open(r\"C:\\Users\\Dianne Kenyah\\OneDrive - University of Ghana\\Documents\\GitHub\\final_year_worldclim\\worldclim\\wc2.1_5m_bio\\wc2.1_5m_bio_9.tif\")\n",
    "dataset1j = rasterio.open(r\"C:\\Users\\Dianne Kenyah\\OneDrive - University of Ghana\\Documents\\GitHub\\final_year_worldclim\\worldclim\\wc2.1_5m_bio\\wc2.1_5m_bio_10.tif\")\n",
    "dataset1k = rasterio.open(r\"C:\\Users\\Dianne Kenyah\\OneDrive - University of Ghana\\Documents\\GitHub\\final_year_worldclim\\worldclim\\wc2.1_5m_bio\\wc2.1_5m_bio_11.tif\")\n",
    "dataset1l = rasterio.open(r\"C:\\Users\\Dianne Kenyah\\OneDrive - University of Ghana\\Documents\\GitHub\\final_year_worldclim\\worldclim\\wc2.1_5m_bio\\wc2.1_5m_bio_12.tif\")\n",
    "dataset1m = rasterio.open(r\"C:\\Users\\Dianne Kenyah\\OneDrive - University of Ghana\\Documents\\GitHub\\final_year_worldclim\\worldclim\\wc2.1_5m_bio\\wc2.1_5m_bio_13.tif\")\n",
    "dataset1n = rasterio.open(r\"C:\\Users\\Dianne Kenyah\\OneDrive - University of Ghana\\Documents\\GitHub\\final_year_worldclim\\worldclim\\wc2.1_5m_bio\\wc2.1_5m_bio_14.tif\")\n",
    "dataset1o = rasterio.open(r\"C:\\Users\\Dianne Kenyah\\OneDrive - University of Ghana\\Documents\\GitHub\\final_year_worldclim\\worldclim\\wc2.1_5m_bio\\wc2.1_5m_bio_15.tif\")\n",
    "dataset1p = rasterio.open(r\"C:\\Users\\Dianne Kenyah\\OneDrive - University of Ghana\\Documents\\GitHub\\final_year_worldclim\\worldclim\\wc2.1_5m_bio\\wc2.1_5m_bio_16.tif\")\n",
    "dataset1q = rasterio.open(r\"C:\\Users\\Dianne Kenyah\\OneDrive - University of Ghana\\Documents\\GitHub\\final_year_worldclim\\worldclim\\wc2.1_5m_bio\\wc2.1_5m_bio_17.tif\")\n",
    "dataset1r = rasterio.open(r\"C:\\Users\\Dianne Kenyah\\OneDrive - University of Ghana\\Documents\\GitHub\\final_year_worldclim\\worldclim\\wc2.1_5m_bio\\wc2.1_5m_bio_18.tif\")\n",
    "dataset1s = rasterio.open(r\"C:\\Users\\Dianne Kenyah\\OneDrive - University of Ghana\\Documents\\GitHub\\final_year_worldclim\\worldclim\\wc2.1_5m_bio\\wc2.1_5m_bio_19.tif\")"
   ]
  },
  {
   "cell_type": "code",
   "execution_count": null,
   "id": "b18fd579",
   "metadata": {},
   "outputs": [],
   "source": [
    "#Opening prec dataset - 5m - dataset 2\n",
    "dataset2a = rasterio.open(r\"C:\\Users\\Dianne Kenyah\\OneDrive - University of Ghana\\Documents\\GitHub\\final_year_worldclim\\worldclim\\wc2.1_5m_prec\\wc2.1_5m_prec_01.tif\")\n",
    "dataset2b = rasterio.open(r\"C:\\Users\\Dianne Kenyah\\OneDrive - University of Ghana\\Documents\\GitHub\\final_year_worldclim\\worldclim\\wc2.1_5m_prec\\wc2.1_5m_prec_02.tif\")\n",
    "dataset2c = rasterio.open(r\"C:\\Users\\Dianne Kenyah\\OneDrive - University of Ghana\\Documents\\GitHub\\final_year_worldclim\\worldclim\\wc2.1_5m_prec\\wc2.1_5m_prec_03.tif\")\n",
    "dataset2d = rasterio.open(r\"C:\\Users\\Dianne Kenyah\\OneDrive - University of Ghana\\Documents\\GitHub\\final_year_worldclim\\worldclim\\wc2.1_5m_prec\\wc2.1_5m_prec_04.tif\")\n",
    "dataset2e = rasterio.open(r\"C:\\Users\\Dianne Kenyah\\OneDrive - University of Ghana\\Documents\\GitHub\\final_year_worldclim\\worldclim\\wc2.1_5m_prec\\wc2.1_5m_prec_05.tif\")\n",
    "dataset2f = rasterio.open(r\"C:\\Users\\Dianne Kenyah\\OneDrive - University of Ghana\\Documents\\GitHub\\final_year_worldclim\\worldclim\\wc2.1_5m_prec\\wc2.1_5m_prec_06.tif\")\n",
    "dataset2g = rasterio.open(r\"C:\\Users\\Dianne Kenyah\\OneDrive - University of Ghana\\Documents\\GitHub\\final_year_worldclim\\worldclim\\wc2.1_5m_prec\\wc2.1_5m_prec_07.tif\")\n",
    "dataset2h = rasterio.open(r\"C:\\Users\\Dianne Kenyah\\OneDrive - University of Ghana\\Documents\\GitHub\\final_year_worldclim\\worldclim\\wc2.1_5m_prec\\wc2.1_5m_prec_08.tif\")\n",
    "dataset2i = rasterio.open(r\"C:\\Users\\Dianne Kenyah\\OneDrive - University of Ghana\\Documents\\GitHub\\final_year_worldclim\\worldclim\\wc2.1_5m_prec\\wc2.1_5m_prec_09.tif\")\n",
    "dataset2j = rasterio.open(r\"C:\\Users\\Dianne Kenyah\\OneDrive - University of Ghana\\Documents\\GitHub\\final_year_worldclim\\worldclim\\wc2.1_5m_prec\\wc2.1_5m_prec_10.tif\")\n",
    "dataset2k = rasterio.open(r\"C:\\Users\\Dianne Kenyah\\OneDrive - University of Ghana\\Documents\\GitHub\\final_year_worldclim\\worldclim\\wc2.1_5m_prec\\wc2.1_5m_prec_11.tif\")\n",
    "dataset2l = rasterio.open(r\"C:\\Users\\Dianne Kenyah\\OneDrive - University of Ghana\\Documents\\GitHub\\final_year_worldclim\\worldclim\\wc2.1_5m_prec\\wc2.1_5m_prec_12.tif\")"
   ]
  },
  {
   "cell_type": "code",
   "execution_count": null,
   "id": "191b740e",
   "metadata": {},
   "outputs": [],
   "source": [
    "#Opening tavg dataset - 5m - dataset 3\n",
    "dataset3a = rasterio.open(r\"C:\\Users\\Dianne Kenyah\\OneDrive - University of Ghana\\Documents\\GitHub\\final_year_worldclim\\worldclim\\wc2.1_5m_tavg\\wc2.1_5m_tavg_01.tif\")\n",
    "dataset3b = rasterio.open(r\"C:\\Users\\Dianne Kenyah\\OneDrive - University of Ghana\\Documents\\GitHub\\final_year_worldclim\\worldclim\\wc2.1_5m_tavg\\wc2.1_5m_tavg_02.tif\")\n",
    "dataset3c = rasterio.open(r\"C:\\Users\\Dianne Kenyah\\OneDrive - University of Ghana\\Documents\\GitHub\\final_year_worldclim\\worldclim\\wc2.1_5m_tavg\\wc2.1_5m_tavg_03.tif\")\n",
    "dataset3d = rasterio.open(r\"C:\\Users\\Dianne Kenyah\\OneDrive - University of Ghana\\Documents\\GitHub\\final_year_worldclim\\worldclim\\wc2.1_5m_tavg\\wc2.1_5m_tavg_04.tif\")\n",
    "dataset3e = rasterio.open(r\"C:\\Users\\Dianne Kenyah\\OneDrive - University of Ghana\\Documents\\GitHub\\final_year_worldclim\\worldclim\\wc2.1_5m_tavg\\wc2.1_5m_tavg_05.tif\")\n",
    "dataset3f = rasterio.open(r\"C:\\Users\\Dianne Kenyah\\OneDrive - University of Ghana\\Documents\\GitHub\\final_year_worldclim\\worldclim\\wc2.1_5m_tavg\\wc2.1_5m_tavg_06.tif\")\n",
    "dataset3g = rasterio.open(r\"C:\\Users\\Dianne Kenyah\\OneDrive - University of Ghana\\Documents\\GitHub\\final_year_worldclim\\worldclim\\wc2.1_5m_tavg\\wc2.1_5m_tavg_07.tif\")\n",
    "dataset3h = rasterio.open(r\"C:\\Users\\Dianne Kenyah\\OneDrive - University of Ghana\\Documents\\GitHub\\final_year_worldclim\\worldclim\\wc2.1_5m_tavg\\wc2.1_5m_tavg_08.tif\")\n",
    "dataset3i = rasterio.open(r\"C:\\Users\\Dianne Kenyah\\OneDrive - University of Ghana\\Documents\\GitHub\\final_year_worldclim\\worldclim\\wc2.1_5m_tavg\\wc2.1_5m_tavg_09.tif\")\n",
    "dataset3j = rasterio.open(r\"C:\\Users\\Dianne Kenyah\\OneDrive - University of Ghana\\Documents\\GitHub\\final_year_worldclim\\worldclim\\wc2.1_5m_tavg\\wc2.1_5m_tavg_10.tif\")\n",
    "dataset3k = rasterio.open(r\"C:\\Users\\Dianne Kenyah\\OneDrive - University of Ghana\\Documents\\GitHub\\final_year_worldclim\\worldclim\\wc2.1_5m_tavg\\wc2.1_5m_tavg_11.tif\")\n",
    "dataset3l = rasterio.open(r\"C:\\Users\\Dianne Kenyah\\OneDrive - University of Ghana\\Documents\\GitHub\\final_year_worldclim\\worldclim\\wc2.1_5m_tavg\\wc2.1_5m_tavg_12.tif\")"
   ]
  },
  {
   "cell_type": "code",
   "execution_count": null,
   "id": "c7cc2d16",
   "metadata": {},
   "outputs": [],
   "source": [
    "#Opening tmax dataset - 5m - dataset 4\n",
    "dataset4a = rasterio.open(r\"C:\\Users\\Dianne Kenyah\\OneDrive - University of Ghana\\Documents\\GitHub\\final_year_worldclim\\worldclim\\wc2.1_5m_tmax\\wc2.1_5m_tmax_01.tif\")\n",
    "dataset4b = rasterio.open(r\"C:\\Users\\Dianne Kenyah\\OneDrive - University of Ghana\\Documents\\GitHub\\final_year_worldclim\\worldclim\\wc2.1_5m_tmax\\wc2.1_5m_tmax_02.tif\")\n",
    "dataset4c = rasterio.open(r\"C:\\Users\\Dianne Kenyah\\OneDrive - University of Ghana\\Documents\\GitHub\\final_year_worldclim\\worldclim\\wc2.1_5m_tmax\\wc2.1_5m_tmax_03.tif\")\n",
    "dataset4d = rasterio.open(r\"C:\\Users\\Dianne Kenyah\\OneDrive - University of Ghana\\Documents\\GitHub\\final_year_worldclim\\worldclim\\wc2.1_5m_tmax\\wc2.1_5m_tmax_04.tif\")\n",
    "dataset4e = rasterio.open(r\"C:\\Users\\Dianne Kenyah\\OneDrive - University of Ghana\\Documents\\GitHub\\final_year_worldclim\\worldclim\\wc2.1_5m_tmax\\wc2.1_5m_tmax_05.tif\")\n",
    "dataset4f = rasterio.open(r\"C:\\Users\\Dianne Kenyah\\OneDrive - University of Ghana\\Documents\\GitHub\\final_year_worldclim\\worldclim\\wc2.1_5m_tmax\\wc2.1_5m_tmax_06.tif\")\n",
    "dataset4g = rasterio.open(r\"C:\\Users\\Dianne Kenyah\\OneDrive - University of Ghana\\Documents\\GitHub\\final_year_worldclim\\worldclim\\wc2.1_5m_tmax\\wc2.1_5m_tmax_07.tif\")\n",
    "dataset4h = rasterio.open(r\"C:\\Users\\Dianne Kenyah\\OneDrive - University of Ghana\\Documents\\GitHub\\final_year_worldclim\\worldclim\\wc2.1_5m_tmax\\wc2.1_5m_tmax_08.tif\")\n",
    "dataset4i = rasterio.open(r\"C:\\Users\\Dianne Kenyah\\OneDrive - University of Ghana\\Documents\\GitHub\\final_year_worldclim\\worldclim\\wc2.1_5m_tmax\\wc2.1_5m_tmax_09.tif\")\n",
    "dataset4j = rasterio.open(r\"C:\\Users\\Dianne Kenyah\\OneDrive - University of Ghana\\Documents\\GitHub\\final_year_worldclim\\worldclim\\wc2.1_5m_tmax\\wc2.1_5m_tmax_10.tif\")\n",
    "dataset4k = rasterio.open(r\"C:\\Users\\Dianne Kenyah\\OneDrive - University of Ghana\\Documents\\GitHub\\final_year_worldclim\\worldclim\\wc2.1_5m_tmax\\wc2.1_5m_tmax_11.tif\")\n",
    "dataset4l = rasterio.open(r\"C:\\Users\\Dianne Kenyah\\OneDrive - University of Ghana\\Documents\\GitHub\\final_year_worldclim\\worldclim\\wc2.1_5m_tmax\\wc2.1_5m_tmax_12.tif\")"
   ]
  },
  {
   "cell_type": "code",
   "execution_count": null,
   "id": "f0aeaf63",
   "metadata": {},
   "outputs": [],
   "source": [
    "#Opening tmin dataset - 5m - dataset 5\n",
    "dataset5a = rasterio.open(r\"C:\\Users\\Dianne Kenyah\\OneDrive - University of Ghana\\Documents\\GitHub\\final_year_worldclim\\worldclim\\wc2.1_5m_tmin\\wc2.1_5m_tmin_01.tif\")\n",
    "dataset5b = rasterio.open(r\"C:\\Users\\Dianne Kenyah\\OneDrive - University of Ghana\\Documents\\GitHub\\final_year_worldclim\\worldclim\\wc2.1_5m_tmin\\wc2.1_5m_tmin_02.tif\")\n",
    "dataset5c = rasterio.open(r\"C:\\Users\\Dianne Kenyah\\OneDrive - University of Ghana\\Documents\\GitHub\\final_year_worldclim\\worldclim\\wc2.1_5m_tmin\\wc2.1_5m_tmin_03.tif\")\n",
    "dataset5d = rasterio.open(r\"C:\\Users\\Dianne Kenyah\\OneDrive - University of Ghana\\Documents\\GitHub\\final_year_worldclim\\worldclim\\wc2.1_5m_tmin\\wc2.1_5m_tmin_04.tif\")\n",
    "dataset5e = rasterio.open(r\"C:\\Users\\Dianne Kenyah\\OneDrive - University of Ghana\\Documents\\GitHub\\final_year_worldclim\\worldclim\\wc2.1_5m_tmin\\wc2.1_5m_tmin_05.tif\")\n",
    "dataset5f = rasterio.open(r\"C:\\Users\\Dianne Kenyah\\OneDrive - University of Ghana\\Documents\\GitHub\\final_year_worldclim\\worldclim\\wc2.1_5m_tmin\\wc2.1_5m_tmin_06.tif\")\n",
    "dataset5g = rasterio.open(r\"C:\\Users\\Dianne Kenyah\\OneDrive - University of Ghana\\Documents\\GitHub\\final_year_worldclim\\worldclim\\wc2.1_5m_tmin\\wc2.1_5m_tmin_07.tif\")\n",
    "dataset5h = rasterio.open(r\"C:\\Users\\Dianne Kenyah\\OneDrive - University of Ghana\\Documents\\GitHub\\final_year_worldclim\\worldclim\\wc2.1_5m_tmin\\wc2.1_5m_tmin_08.tif\")\n",
    "dataset5i = rasterio.open(r\"C:\\Users\\Dianne Kenyah\\OneDrive - University of Ghana\\Documents\\GitHub\\final_year_worldclim\\worldclim\\wc2.1_5m_tmin\\wc2.1_5m_tmin_09.tif\")\n",
    "dataset5j = rasterio.open(r\"C:\\Users\\Dianne Kenyah\\OneDrive - University of Ghana\\Documents\\GitHub\\final_year_worldclim\\worldclim\\wc2.1_5m_tmin\\wc2.1_5m_tmin_10.tif\")\n",
    "dataset5k = rasterio.open(r\"C:\\Users\\Dianne Kenyah\\OneDrive - University of Ghana\\Documents\\GitHub\\final_year_worldclim\\worldclim\\wc2.1_5m_tmin\\wc2.1_5m_tmin_11.tif\")\n",
    "dataset5l = rasterio.open(r\"C:\\Users\\Dianne Kenyah\\OneDrive - University of Ghana\\Documents\\GitHub\\final_year_worldclim\\worldclim\\wc2.1_5m_tmin\\wc2.1_5m_tmin_12.tif\")"
   ]
  },
  {
   "cell_type": "code",
   "execution_count": null,
   "id": "0f74909e",
   "metadata": {},
   "outputs": [],
   "source": []
  },
  {
   "cell_type": "code",
   "execution_count": null,
   "id": "15a3a453",
   "metadata": {},
   "outputs": [],
   "source": [
    "data1a = dataset1a.read()\n",
    "data1b = dataset1b.read()\n",
    "data1c = dataset1c.read()\n",
    "data1d = dataset1d.read()\n",
    "data1e = dataset1e.read()\n",
    "data1f = dataset1f.read()\n",
    "data1g = dataset1g.read()\n",
    "data1h = dataset1h.read()\n",
    "data1i = dataset1i.read()\n",
    "data1j = dataset1j.read()\n",
    "data1k = dataset1k.read()\n",
    "data1l = dataset1l.read()\n",
    "data1m = dataset1m.read()\n",
    "data1n = dataset1n.read()\n",
    "data1o = dataset1o.read()\n",
    "data1p = dataset1p.read()\n",
    "data1q = dataset1q.read()\n",
    "data1r = dataset1r.read()\n",
    "data1s = dataset1s.read()"
   ]
  },
  {
   "cell_type": "code",
   "execution_count": null,
   "id": "298e5a44",
   "metadata": {},
   "outputs": [],
   "source": [
    "data2a = dataset2a.read()\n",
    "data2b = dataset2b.read()\n",
    "data2c = dataset2c.read()\n",
    "data2d = dataset2d.read()\n",
    "data2e = dataset2e.read()\n",
    "data2f = dataset2f.read()\n",
    "data2g = dataset2g.read()\n",
    "data2h = dataset2h.read()\n",
    "data2i = dataset2i.read()\n",
    "data2j = dataset2j.read()\n",
    "data2k = dataset2k.read()\n",
    "data2l = dataset2l.read()"
   ]
  },
  {
   "cell_type": "code",
   "execution_count": null,
   "id": "2679feac",
   "metadata": {},
   "outputs": [],
   "source": [
    "data3a = dataset3a.read()\n",
    "data3b = dataset3b.read()\n",
    "data3c = dataset3c.read()\n",
    "data3d = dataset3d.read()\n",
    "data3e = dataset3e.read()\n",
    "data3f = dataset3f.read()\n",
    "data3g = dataset3g.read()\n",
    "data3h = dataset3h.read()\n",
    "data3i = dataset3i.read()\n",
    "data3j = dataset3j.read()\n",
    "data3k = dataset3k.read()\n",
    "data3l = dataset3l.read()"
   ]
  },
  {
   "cell_type": "code",
   "execution_count": null,
   "id": "314ee724",
   "metadata": {},
   "outputs": [],
   "source": [
    "data4a = dataset4a.read()\n",
    "data4b = dataset4b.read()\n",
    "data4c = dataset4c.read()\n",
    "data4d = dataset4d.read()\n",
    "data4e = dataset4e.read()\n",
    "data4f = dataset4f.read()\n",
    "data4g = dataset4g.read()\n",
    "data4h = dataset4h.read()\n",
    "data4i = dataset4i.read()\n",
    "data4j = dataset4j.read()\n",
    "data4k = dataset4k.read()\n",
    "data4l = dataset4l.read()"
   ]
  },
  {
   "cell_type": "code",
   "execution_count": null,
   "id": "14ee5d25",
   "metadata": {},
   "outputs": [],
   "source": [
    "data5a = dataset5a.read()\n",
    "data5b = dataset5b.read()\n",
    "data5c = dataset5c.read()\n",
    "data5d = dataset5d.read()\n",
    "data5e = dataset5e.read()\n",
    "data5f = dataset5f.read()\n",
    "data5g = dataset5g.read()\n",
    "data5h = dataset5h.read()\n",
    "data5i = dataset5i.read()\n",
    "data5j = dataset5j.read()\n",
    "data5k = dataset5k.read()\n",
    "data5l = dataset5l.read()"
   ]
  },
  {
   "cell_type": "code",
   "execution_count": null,
   "id": "0d006a0d",
   "metadata": {},
   "outputs": [],
   "source": []
  },
  {
   "cell_type": "code",
   "execution_count": null,
   "id": "62468bfd",
   "metadata": {},
   "outputs": [],
   "source": [
    "# Taking an image example from each "
   ]
  },
  {
   "cell_type": "markdown",
   "id": "adc310d5",
   "metadata": {},
   "source": [
    "* GLOB"
   ]
  },
  {
   "cell_type": "markdown",
   "id": "70f25d5d",
   "metadata": {},
   "source": [
    "* SHOW METADATA OF EACH IMAGE"
   ]
  },
  {
   "cell_type": "markdown",
   "id": "7bcba9bf",
   "metadata": {},
   "source": [
    "CHAPTER 3 - CLUSTERING\n",
    "* KMEANS\n",
    "1. FIND THE MATHS BEHIND KMEANS\n",
    "\n",
    "* DBSCAN\n",
    "1. FIND THE MATHS BEHIND DBSCAN\n"
   ]
  },
  {
   "cell_type": "code",
   "execution_count": null,
   "id": "0e99a38e",
   "metadata": {},
   "outputs": [],
   "source": []
  }
 ],
 "metadata": {
  "kernelspec": {
   "display_name": "Python 3 (ipykernel)",
   "language": "python",
   "name": "python3"
  },
  "language_info": {
   "codemirror_mode": {
    "name": "ipython",
    "version": 3
   },
   "file_extension": ".py",
   "mimetype": "text/x-python",
   "name": "python",
   "nbconvert_exporter": "python",
   "pygments_lexer": "ipython3",
   "version": "3.11.5"
  }
 },
 "nbformat": 4,
 "nbformat_minor": 5
}
