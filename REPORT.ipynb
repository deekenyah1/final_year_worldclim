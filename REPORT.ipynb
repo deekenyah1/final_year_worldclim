{
 "cells": [
  {
   "cell_type": "raw",
   "id": "8d1c68a3",
   "metadata": {},
   "source": [
    "TITLE PAGE\n",
    "UNIVERSITY OF GHANA, LEGON\n",
    "DEPARTMENT OF MATHEMATICS\n",
    "THE VALIDITY OF NODATA VALUES IN THE WORLDCLIM DATABASE \n",
    "BY\n",
    "DIANNE MAAME EFUA EGYIM KENYAH\n",
    "10689628\n",
    "JULY,2024\n",
    "A dissertation submitted to the Department of Mathematics,\n",
    "University of Ghana, in partial fulfillment of the\n",
    "requirements for Bachelor of Science degree.\n"
   ]
  },
  {
   "cell_type": "code",
   "execution_count": null,
   "id": "fe3b0731",
   "metadata": {},
   "outputs": [],
   "source": []
  },
  {
   "cell_type": "raw",
   "id": "47b2bcc5",
   "metadata": {},
   "source": [
    "CHAPTER 1 - WORLDCLIM INTRODUCTION"
   ]
  },
  {
   "cell_type": "code",
   "execution_count": null,
   "id": "f537727e",
   "metadata": {},
   "outputs": [],
   "source": []
  },
  {
   "cell_type": "code",
   "execution_count": null,
   "id": "8242b487",
   "metadata": {},
   "outputs": [],
   "source": []
  }
 ],
 "metadata": {
  "kernelspec": {
   "display_name": "Python 3 (ipykernel)",
   "language": "python",
   "name": "python3"
  },
  "language_info": {
   "codemirror_mode": {
    "name": "ipython",
    "version": 3
   },
   "file_extension": ".py",
   "mimetype": "text/x-python",
   "name": "python",
   "nbconvert_exporter": "python",
   "pygments_lexer": "ipython3",
   "version": "3.11.5"
  }
 },
 "nbformat": 4,
 "nbformat_minor": 5
}
