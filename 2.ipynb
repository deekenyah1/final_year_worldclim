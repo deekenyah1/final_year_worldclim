{
 "cells": [
  {
   "cell_type": "code",
   "execution_count": 1,
   "id": "5d13a39f",
   "metadata": {},
   "outputs": [],
   "source": [
    "import rasterio\n",
    "import matplotlib.pyplot as plt\n",
    "import numpy as np\n",
    "from matplotlib.gridspec import GridSpec\n",
    "import glob"
   ]
  },
  {
   "cell_type": "code",
   "execution_count": 3,
   "id": "556748fe",
   "metadata": {},
   "outputs": [
    {
     "data": {
      "text/plain": [
       "<open DatasetReader name='C:/Users/Dianne Kenyah/OneDrive - University of Ghana/Documents/GitHub/final_year_worldclim/worldclim/wc2.1_5m_prec/wc2.1_5m_prec_03.tif' mode='r'>"
      ]
     },
     "execution_count": 3,
     "metadata": {},
     "output_type": "execute_result"
    }
   ],
   "source": [
    "dataset2c = rasterio.open(r\"C:\\Users\\Dianne Kenyah\\OneDrive - University of Ghana\\Documents\\GitHub\\final_year_worldclim\\worldclim\\wc2.1_5m_prec\\wc2.1_5m_prec_03.tif\")\n",
    "dataset2c"
   ]
  },
  {
   "cell_type": "code",
   "execution_count": 7,
   "id": "c3837d75",
   "metadata": {},
   "outputs": [
    {
     "data": {
      "text/plain": [
       "array([[[-32768, -32768, -32768, ..., -32768, -32768, -32768],\n",
       "        [-32768, -32768, -32768, ..., -32768, -32768, -32768],\n",
       "        [-32768, -32768, -32768, ..., -32768, -32768, -32768],\n",
       "        ...,\n",
       "        [     2,      2,      2, ...,      0,      0,      0],\n",
       "        [     2,      2,      2, ...,      0,      0,      0],\n",
       "        [     2,      2,      2, ...,      0,      0,      0]]],\n",
       "      dtype=int16)"
      ]
     },
     "execution_count": 7,
     "metadata": {},
     "output_type": "execute_result"
    }
   ],
   "source": [
    "dataset2c.read()"
   ]
  },
  {
   "cell_type": "code",
   "execution_count": 9,
   "id": "da0030ed",
   "metadata": {},
   "outputs": [
    {
     "data": {
      "text/plain": [
       "{'driver': 'GTiff',\n",
       " 'dtype': 'int16',\n",
       " 'nodata': -32768.0,\n",
       " 'width': 4320,\n",
       " 'height': 2160,\n",
       " 'count': 1,\n",
       " 'crs': CRS.from_epsg(4326),\n",
       " 'transform': Affine(0.08333333333333333, 0.0, -180.0,\n",
       "        0.0, -0.08333333333333333, 90.0)}"
      ]
     },
     "execution_count": 9,
     "metadata": {},
     "output_type": "execute_result"
    }
   ],
   "source": [
    "dataset2c.meta"
   ]
  },
  {
   "cell_type": "code",
   "execution_count": null,
   "id": "0064d24f",
   "metadata": {},
   "outputs": [],
   "source": []
  }
 ],
 "metadata": {
  "kernelspec": {
   "display_name": "Python 3 (ipykernel)",
   "language": "python",
   "name": "python3"
  },
  "language_info": {
   "codemirror_mode": {
    "name": "ipython",
    "version": 3
   },
   "file_extension": ".py",
   "mimetype": "text/x-python",
   "name": "python",
   "nbconvert_exporter": "python",
   "pygments_lexer": "ipython3",
   "version": "3.11.5"
  }
 },
 "nbformat": 4,
 "nbformat_minor": 5
}
